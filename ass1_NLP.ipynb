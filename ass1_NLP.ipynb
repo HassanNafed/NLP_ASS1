{
  "cells": [
    {
      "cell_type": "code",
      "execution_count": null,
      "metadata": {
        "colab": {
          "base_uri": "https://localhost:8080/"
        },
        "id": "TYyeuRj8KVDe",
        "outputId": "13433e88-edb2-4e8c-f115-b77def5c0080"
      },
      "outputs": [
        {
          "output_type": "stream",
          "name": "stderr",
          "text": [
            "[nltk_data] Downloading package punkt to /root/nltk_data...\n",
            "[nltk_data]   Unzipping tokenizers/punkt.zip.\n",
            "[nltk_data] Downloading package wordnet to /root/nltk_data...\n",
            "[nltk_data] Downloading package stopwords to /root/nltk_data...\n",
            "[nltk_data]   Unzipping corpora/stopwords.zip.\n"
          ]
        }
      ],
      "source": [
        "import requests\n",
        "from bs4 import BeautifulSoup\n",
        "import re\n",
        "import nltk\n",
        "from nltk.stem import WordNetLemmatizer\n",
        "nltk.download('punkt')  # Download the 'punkt' package for tokenization\n",
        "nltk.download('wordnet')  # Download WordNet for lemmatization\n",
        "nltk.download('stopwords')  # Download stop words\n",
        "from nltk.corpus import stopwords\n"
      ]
    },
    {
      "cell_type": "code",
      "execution_count": null,
      "metadata": {
        "id": "HPxHQhuooT5B"
      },
      "outputs": [],
      "source": [
        "url = \"https://en.wikipedia.org/wiki/Convolutional_neural_network\"\n"
      ]
    },
    {
      "cell_type": "code",
      "source": [
        "response = requests.get(url)\n",
        "html_content = response.content\n",
        "soup = BeautifulSoup(html_content, 'html.parser')\n",
        "text = soup.get_text(separator=' ', strip=True)\n"
      ],
      "metadata": {
        "id": "fDVbd_KE9FV5"
      },
      "execution_count": null,
      "outputs": []
    },
    {
      "cell_type": "code",
      "execution_count": null,
      "metadata": {
        "colab": {
          "base_uri": "https://localhost:8080/"
        },
        "id": "6duJ7SFOLOjE",
        "outputId": "e5746e9c-76c4-4ada-c6a9-ab3b6caa44c6"
      },
      "outputs": [
        {
          "output_type": "stream",
          "name": "stdout",
          "text": [
            "Unique Words:\n",
            " {'lateral', 'even', '34', 'piece', '55', 'acceptable', 'increased', 'form', 'function', 'cars147', 'facial', 'deep', 'delivers', 'networks60616263', 'gpuimplementation', 'becoming', 'rough', 'depends', 'localization', 'heavily', 'discovery', 'one41', 'error45', 'networks86', 'however', 'additional', 'oh', 'learning58', 'andor', 'connect', '006656', 'natural', 'mlp', 'typical', 'networks81', 'qnetwork', 'modified', 'ab01s2xa2yb', 'generalization', 'krizhevsky', 'cpu5739', 'methodsedit', 'often', 'training42', 'abovementioned', 'analysisedit', 'sharedweight', 'origin', 'networks12', 'time134', 'convolved', 'agree', 'weighting30', 'kunihiko', 'intel', 'class', 'subsampling', 'pretraining', 'predicting', 'input72', '1times', 'dan', '2pixel', '5', 'rely', 'border', 'thread', 'batch', 'discussed', 'strideedit', 'hidden', 'regularizer', 'generalized', 'high', 'transformer', 'modeling', 'imagecitation', 'cost', 'account', 'generates', 'neuron', 'cnns42', 'simplest', 'quickly', 'superhuman', 'independently', 'manual', 'hyperparameters', 'machine', 'outperform', '2014', 'architectureedit', 'resizes', 'tasks119', 'implement', 'propagates', 'speaker', 'check', 'might', 'exploiting', 'gradient', 'predecessor', 'surrounding', 'historyedit', 'contralateral', '83', 'fogel', 'animal', 'suited', 'behind', 'nyquistshannon', 'x1ex1', 'presented', 'matrix', 'potentially', 'whereas', 'networksedit', 'timed', 'transformed', 'disadvantage', 'demonstrated', 'frame97', 'foundation', '198853', '199149', 'share', 'overlap', 'small', 'framework143', 'domain124', 'classification140', 'consistency', 'bengio', 'million', 'zhang', 'automated', 'whole', 'discarding', 'extraction', 'rather', 'affine', 'structure', 'according', 'rescaled', 'process', 'way', 'gpubased', 'left', '67', 'angle', 'location', 'eye', 'compute', 'policy', 'advance', 'arrangementedit', 'sensory', 'explanation', 'tensor', 'interleaving', 'avoiding', 'independent', 'hundred', 'relevant', 'patch', 'order', 'al', 'conjunction', 'improvements95', 'update', 'difference', 'translationequivariant', 'fukushima', 'sized', '2600', 'understanding', 'extrapolating', 'lighting', 'imposes', '7x7citation', 'linksedit', 'favor', 'remains', 'n', 'system', 'hierarchical', 'usually', 'practical', 'computationally', 'combine', 'feedforward', 'humans103', 'digit', 'tangent', 'introduces', 'variation', 'analysis', 'hyperparameter', 'impractical', 'delay', 'cascading', 'clark', 'posed', 'contextual', '198948', 'dimensionality', 'patch38', 'abstracted', 'tasks3332', 'perceptrons', 'method', 'chosen', 'scanner', 'used1472', '75', 'images26', '976', 'drug', 'introducing', 'best75', 'ambiguity', 'capsule', 'subpart', 'determined', 'needed', 'selection', 'start', 'fraction', 'vary', 'dot', 'yann', 'weightsedit', 'total', 'case', 'training', 'kind', 'received', 'concept', 'earlier', 'took', 'multiple', 'word', 'handwritten', 'observed', 'interconnection', '5600', 'running', 'component', 'manylayered', 'hubel', 'task', 'effective', 'semantically', 'locality', 'nonlinear', 'corresponding', 'roi', 'shared', 'cortex', 'need', 'design', 'neuronal', 'meanwhile', 'broader', 'molecule', 'located', 'prior', 'driving', 'prepared', '2d', 'nowwhen', 'nonlinearity', 'commonly', 'hyperbolic', 'downsampling', 'tree', 'single', 'group', 'scale', '20', 'four', 'connection', 'similar', 'still', 'proposed', 'partition', 'availability', 'performed', 'apply', 'solution', 'help', 'incorporation', 'hierarchy', 'average', 'replacing', 'problem', '201267', 'breast', 'well', 'several', 'successive', 'stacking', 'projected', 'filtersedit', 'spatially', 'traditional', 'highlevel', 'map', 'testset', 'blind', 'from139', 'improved', 'probability', 'operates', 'dropout', 'cheque', 'structurebased', 'test', 'simdlevel', 'pixel', 'benchmark', 'free', 'relatively', 'better13511', 'constrained', 'architecture', 'lenet5', 'keeping', 'distribution', 'reinforcement', 'document', 'suitable', 'featuresclarification', 'breed', 'deconvolution', 'phi', 'peaky', 'normalization', 'displaystyle', 'cope', 'corresponds', 'machines112', 'english', 'viewpoint96', '1993', 'ability', 'period', 'instant', 'diffuse', 'descentedit', 'forecastingedit', 'indeed', 'occupies', 'move133', 'stop', 'stoppingedit', 'neural', 'fxmax0x', 'complexity', 'vanishing', 'clamping', 'clay', '3', 'systematically', 'contest', 'normalized', 'conventional', 'play', 'interaction', 'effect', 'popular', 'chaos70', 'residual', 'intractable', 'multilayer', 'distorted', 'connectivityedit', 'j', 'impressive', 'gpus', '1987', 'cluster', 'context', 'common', 'along', 'preliminary', '2004', 'coefficient', 'mlps', 'tiny', 'learning150', 'interest', 'biggest', 'generally', 'accuracy', 'look', 'cat', 'amount', 'try', '25', 'abbreviation', 'constantalpha', '2000', 'dominated', 'layer', 'differs', 'root', 'work', 'retrieval115', 'design125', 'compared', 'dilated', '3ddatasetsedit', 'successfully', 'content', 'specific', 'true', 'squared', 'affecting', 'affect', 'create', 'visualized', 'represents', 'surprisingly', 'x', 'nose', 'solve', 'e', 'stochastic', 'fuego', '1960s', 'external', '2010', 'couple', 'upside', 'regressing', 'finetuningedit', 'implementing', 'benefit', 'backpropagation', 'symmetric', 'penalizes', 'recognitionedit', 'fit', 'centered', 'highresolution', 'map2526', 'achieve', 'adjusting', 'contained', 'frobenius', 'subsamples', 'occur', 'interframe', 'checker', 'provide', 'decayedit', 'change', 'respectively', 'droppedout', 'simple', 'brain17', 'reported', 'similarly', 'obtained', 'coprocessor69', 'invariant', 'february', 'subregion', 'performs', 'nondecreasing', 'iteratively', 'zero', 'characterize', 'assumption', 'interpretation', 'rectifier', 'layers22', 'invented', 'generated', 'recently', 'lost', 'alphago', 'critical', 'gigamesh', 'initially', 'explored', 'something', 'property', 'weighted', 'correctly', 'occurs', 'avoid', 'done', 'instead', 'trimming', 'achieves', 'game', 'decade', 'descent', 'w2c', 'reinserted', 'forward', 'human', 'phoneme', 'relu', 'related', '10', 'contain', 'layer72', 'activate', 'highest', 'cnn', 'cortical', 'ratio', 'window', 'hence', 'increase', 'processingedit', 'ass', 'recognitionexample', 'entity', 'expect', '3x3', 'category', 'hydrogen', 'early', 'found', '199152', 'final', 'footprint', 'minimal', 'chellapilla', 'sets146', '2015', 'quality', 'connects', 'spectrogram', 'identified', 'resolution', 'sparse', 'extrapolate', 'fieldcitation', 'processing', 'protein', 'sum', 'antialiasing', '1990', 'syllable', 'generalize', 'limiting', 'penalty', 'redundant', 'apart', 'convolution2728', 'also', 'fewer', 'softmax', 'manipulate', '10001000pixel', 'comparably', 'object', 'development', 'bordes', 'accuracy82', 'assumed', 'scheme', 'connections12', 'explanationsedit', 'norb', 'loses', 'emulate', 'practice75', '3072', 'isolated', 'slide', 'camera', 'variant', 'ordinarily', 'thin', 'rnns', 'lowerlevel', 'subset', 'processes16171819', '3d', 'known', 'either', 'incorporated', 'introduced', 'compose', 'entire', 'time', 'chinese', 'linear', 'representationwhich', 'receptive', 'b', 'call', 'overlapping', 'treating', 'nearly', 'referencesedit', 'see', 'add', 'zip', 'use', 'today', '60000', 'populated', 'report', 'prevented', 'nonoverlapping', 'decide', 'fully', 'it152', 'theorem', 'another', 'pk12', 'applies', 'upper', 'extent', 'moving', 'atari', 'pooling', 'poolingedit', '22', 'gradients138', 'result', 'consist', 'local', 'dropconnect', '460461', 'dilationedit', 'field', 'networks87', 'mp', 'showed', 'generic', '2011', 'framework', 'cell', 'replaced', 'kernels34', 'degree', 'learn', 'pool', 'earned', 'optimization', 'strategy', 'unit', 'operated', 'used', 'predictions148149', 'tanh', 'expressed', 'partial', 'existing', '04129130', '2dimensional', 'layersedit', 'deconvolutionbased', 'square', 'curse', 'range', 'analysis113', 'powerful', 'example', 'independence', 'expands', 'controlled', 'hemisphere', 'proper', 'includes', 'near', 'equalize', 'vec', 'setting', 'glorot', 'abstraction', 'cover', 'mouth', 'detects', 'max', 'doe', 'objective', 'brain', 'perceptron', 'atomnet', 'extend', 'extended', 'evenly', 'belief', 'retain', 'passing', 'play131', 'low', 'storkey', 'pooling14', 'end', '10000', 'reconstruction', 'dropped', '2002003', 'illposed', 'history144145', 'et', 'simply', 'operation79', 'curvaturebased', 'parameter', 'operation', 'roughly', 'applicationsedit', 'ten', 'preprocessing', 'present', 'database23', 'procedure', 'oldest', 'mammogram', 'predict', 'comprise', 'september', 'included', 'automatic', 'ignoring', 'dog', 'data', 'playouts', 'ignored', 'geometric', 'randomly', 'computer', 'writing', 'winner', 'greater', '1969', 'occluded', 'identity', 'parallelism', 'decrease', 'using', 'larger', 'passed', 'feasibly', 'specifies', 'net', 'higherlayer', 'constant', 'later', 'neocognitron16', 'higher', 'l2', 'cdbns154', '12layer', 'challenge', 'archaeological', 'stimulus21', 'averaging', 'actual', 'modeled', 'go', 'wiesel', 'stream107108109', 'removing', 'separable', 'artificial', 'rgb', 'wasteful', '9', 'modelcitation', 'input8414', 'basic', 'win', 'reduction', 'entry', 'better', 'respond', '2x2', 'classifies', 'modern', 'anomaly', 'onedimensional', 'pattern', 'bias', 'random', 'considering', 'coevolution', 'little', 'portion', 'computing', 'depending', '100', 'detect', 'candidate', 'constraint', 'networkedit', 'image', 'give', '199450', 'spectral', 'always', 'equivariance', 'sharing', 'layercitation', 'sense', 'subjects19', '1', 'infty', 'fieldedit', 'suffer', 'deformation', 'locally', 'prediction', 'completely', 'pioneering', 'computation', 'last', 'inner', 'bank', 'specie', 'offset', 'happen', 'labeled', 'copy', 'benchmark64', 'consists', 'following', 'ciresan', 'removed', 'resembles', '7level', 'imply', 'lowering', 'called', 'images93', 'fukushimas', 'pyramidal', 'correlation', 'filter20', 'tested', 'converged', 'pointwise', 'overall', '2013', 'le', 'spatial', 'prediction8889', '120000', 'shown', 'principle', 'space105106', 'reduced', 'increasing', 'improve', 'vector', 'neighboring', 'predicted', 'nonsaturating', 'pyramid56', 'include', '200000', 'sigmoid', 'restricted', 'label', 'augmentation', 'dqn', 'halted', 'date', 'named', 'across', 'issue', 'wider', 'perform', 'partially', 'finding', 'unfortunately', '122123', 'incorrect', 'dimension', 'power', 'cifar153', 'rotated', 'k', 'shift', 'xavier', 'downsampled', 'next', 'robust', '0valued', 'advantageto', 'performing', 'forecasting141', 'volumenb', 'sample', 'crossentropy', 'weight', 'utilizing', 'classesnb', 'alphabet', 'deviation', 'series', 'consecutive', 'trained', 'representation', 'set93', 'require', 'reduces', 'chance', 'calculates', 'extracted', 'saturating', 'convolution44', 'enforcing', 'medical', 'proportionality', 'information', 'aliasing', 'set15', 'accordingly', 'equalling', 'visible', 'one', 'cuneiform', 'possible', 'thus', 'serf', 'detection', '2012', 'part', 'attention', 'notable', 'cultural', 'involves', 'handle', 'lecun', 'considered', 'mitigate', 'combining', 'additionally', 'microsoft', 'rcnn78', 'goedit', 'character', '32323', 'denote', 'fast', 'unsupervised', 'seems', 'sigma', 'provided', 'deeper5', 'alone', 'prone', 'cortexedit', '128', 'designed48', 'act', '2001', 'analyzing', 'finegrained', 'complete', 'new', 'query', 'formed', '19881213', 'model', 'resource', 'handengineered', 'turn', 'latter', 'focused', 'gpgpu', 'alex', 'come', 'retina', '1d', 'code', 'per', 'pad', 'atrous', '2006', 'together', 'achieved', 'ant', '2014101', 'finished', 'ignore', 'progressively', 'combined', 'avoids', 'define', 'rcmn', 'enable', 'important', 'xeon', 'filtering', '1990s', 'architecturesedit', 'altogether77', 'undervalued', '1999', 'classification117', 'acquired', 'translation', 'imagenet', 'play132', 'block', 'adjacent', 'towards', 'filter', 'designs5455', 'choosing', 'literature', 'carbon', 'type', 'beat', 'outgoing', 'including', 'software', 'highdimensional', 'competitive', 'implementation', 'conformal', 'reference', 'preferring', 'map2324', 'padding', 'unchanged', 'required', 'restricts', 'optimize', 'core', 'knowledge', 'could', 'set', 'width', 'therefore', 'cifar10', 'learnable', 'application', 'inspired', 'dimension43', 'fixed', 'timeinvariantly', 'penalizing', 'global', 'contributes', 'holding', 'salience', 'major', 'precise', 'ilsvrc', 'treatment', 'speed', 'fullyconnected', 'enforce', '3dimensional', 'kfold', 'may', 'recent', 'implementationsedit', 'prevent', 'dealing', 'within', 'implies', 'testing', 'explicit', 'behavior', 'interpretable', 'maxpooling', 'spacecitation', 'multinomial', 'agent', 'emphasised', 'receives', 'relax', 'contest68', 'enough', 'drastically', 'classification', 'hand', 'recognition46', 'slice', 'hogwild', 'available', 'pyramidedit', 'ideally', 'gridtopology', 'search', 'although', 'computes', 'input', 'siann', 'output', 'unfeasible', 'level', 'enables', 'preferred', '0439329', 'grow', 'stack', 'train', 'good', 'dropoutedit', 'largescale', 'significant', 'librariesedit', 'purpose', 'elimination', 'lot', 'tiled', 'orientation', '023', 'notesedit', '0', 'stages45', 'trend', 'general', 'much', 'show', 'value', 'antoine', 'ultimately', 'eyespecific', 'monte', 'performance', 'encouraging', 'factor', 'wide', 'empiricaledit', 'equivalent', 'term', 'cnns', 'produce', 'justify', 'input14', 'regionstemporal', 'dramatically', 'evaluationedit', 'shapes98', 'input73nb', 'idea', 'participate', 'yamaguchi', 'zero80', 'adapted', 'absolute', 'mnist', 'various', 'control', 'embed', 'receive', 'consistent', 'note', 'pooling92', 'subspace', 'implemented', 'quill', 'massive', 'euclidean', '32', 'graphic', 'blocksedit', 'speech', 'almost', 'simulating', 'dataset', 'learned', 'convolutionbased', 'dataedit', 'convolution', 'large', 'frame', 'learning', 'intuitively', 'vision', 'stage', 'heritage', 'recognition40', 'segmentation', 'texttovideo', 'textstyle', 'utilize', '199551', 'filters76', 'constraintsedit', 'tablet', 'approach', 'distinguishing', 'realvalued', 'deepdream', 'tend', 'connectivity', 'reality', 'yoshua', 'easier', 'name', 'especially', '200200', 'tiles56', 'organisms31', 'intuitive', 'published', 'thiscitation', 'variable', 'useful', 'subsequently', 'changed', 'lowerlayer', 'network', 'stacked', 'crosscorrelation', 'crossvalidation', 'exact', '60', '2015151', 'system25', 'deeper', 'remove', 'original', 'standard', 'proportional', 'fallen', 'caused', 'connected', '1980s', 'etc', 'gated', 'limit', 'dqns', 'directly', 'atomwise', 'results23', 'organization', 'spaced', 'rnnbased', 'differentiable', 'workshop', 'mean', 'firing', 'bonding', 'laboriously', 'overfitting', 'decay', 'flattened', 'combination', 'exploit', 'multiplicative', 'forecasting', 'skipped', 'designer', 'aliasingedit', 'pose', 'sampling', 'particular', 'approximation', 'cnns39', 'ratios29', 'decomposition', 'activity', 'product', 'expert', 'matched', 'tiling', 'temporal', 'nonconvolutional', 'classifying', 'hyperparametersedit', 'team', 'mutually', 'layeredit', 'stride', 'two', 'people', 'cascaded', 'individually', 'distinct', 'arbitrary', '2', '01', 'explicitedit', 'framesedit', 'insert', '201490', 'memory', 'wei', 'magnitude', 'sparsely', 'drawback', 'deterministic', 'exponential', 'biomolecules', 'allows', 'real', 'cpu59', 'old', 'fxtanhx', 'among', '1980182634', 'unless', '30', 'chinook', 'distance', 'exclusive', 'featuresedit', 'competitions6639', 'parametersedit', 'area', 'elastic', 'long', 'gpu', 'position', 'spatiotemporal', 'significantly', 'database', 'typically', 'maximum', 'ebola', 'kept', 'achieving', 'carlo', 'synchronization', 'size', 'face', 'node', 'noisy', 'alternative', '2n', 'gnu', 'second', 'precision', 'disease', 'classify', 'semantic', 'addition', 'individual', 'contribution', 'selfdriving', 'evaluating', 'exploding', 'seriessequence', 'regularization', 'leading', 'depth', 'transform', 'novel', 'identify', 'jung', 'designed', '97', 'invariance', 'supervised', 'qnetworksedit', 'engineering', 'rectangle', 'digital', '3ddatasets', 'providing', 'virus127', 'spared', 'tdnns', 'parsing114', 'first', 'far', 'video', 'blondie24', 'previous', 'gather', 'resulting', 'contrast', 'field32', 'varies', '05', 'sp3', 'cropped', 'picked', 'applied', 'gnns', 'living', 'biological', 'opposed', 'highly', 'building', 'recognized', 'depthwise', 'timevarying', 'intervention', 'without', 'interclip', 'ignores', 'computed', 'acceleration', 'proximate', 'regular', 'operations85', 'selfsupervised', 'transfer', 'signal', 'dependences137', 'language', 'cresceptron', 'gaming', 'alsoedit', 'necessary', 'furthermore', 'modeling116', 'architecture14', 'channel', 'dependencies110111', 'dropconnectedit', 'fxysmax', 'coined', '1p', 'eg', 'endtoend', 'deal', 'announced', 'three', 'intrinsic', 'preserving', 'set94', 'discovers', 'trouble', 'granularity', 'shiftinvariant', 'effectively', 'expected', 'requirement', 'general37', 'highmask', 'l1', 'f', 'cdbn', 'recognition', '1989', 'weng', 'error', 'bound', 'allow', 'thousand', 'qlearning', '2norm', 'decision', 'refer', 'relationship', 'sizeedit', 'dynamic', 'seen', 'frequency', 'shortterm', 'heicubeda142', 'detectionedit', 'lstm', 'recognize', 'negative', 'tdnn', 'flexible', 'regularized', 'equivariant', 'became', 'flower', 'prediction118', 'spot', 'chaos', 'numbers47', 'professional', 'study', 'rarely', 'datasets', 'applying', 'us', 'ha', 'higherlevel', 'close', 'hairspecific', 'complex', '50000', 'digitized', 'iteration', 'waibel', 'perturb', 'feedback', 'structures126', 'w', 'ranked', 'advantage', 'greatly', 'p', 'googlenet102', '15', 'accelerated', 'processed', 'mid1990s51', 'breakthrough', '1950s', 'edge', 'added', '32x32', 'viewpoint', 'region', 'technique', 'c', 'potential', 'radically', 'reducing', 'function3536', 'predictive', 'given', 'chemical', 'aromaticity', 'view', 'dimensional', 'number', 'strong', 'accompanying', 'due', 'preceded', '2005', 'becomes', 'improves', 'throughout', 'loss', 'efficiently', 'color', 'imagelike', 'space', 'capacity', 'satisfy', '165', 'moreover', 'recurrent', 'contribute', 'alternate', 'required120', 'volume', 'extension', 'rate', 'take', 'finetune', 'reported26', 'automatically', 'yield', 'widely', 'pas', 'unacceptable', 'producing', 'parallelization', 'time65', 'iterations104', 'classical', 'rate100', 'move', 'side', 'since', 'make', 'incoming', 'sentence', 'paddingedit', 'right', 'hampshire', 'involved', 'program', 'generate', 'higherresolution', 'multiplication', 'person', '5x5sized', 'maps1213', 'parametercitation', 'realize', 'periodically', 'become', 'architecture73', 'best', 'learnt', 'activation', 'capable', 'based', 'lead', 'discriminating', 'sclerosis128', 'stem', 'algorithm', 'seeing', 'convolutional', 'target', 'shape', '121', 'kernel', 'requires', 'fc', 'score', 'ensures', 'excellent', '6', 'different', 'desired', 'strongest', 'december', 'paper', 'normal', 'via', 'rectified', 'cancer', 'feature', 'va', 'counterintuitively', 'processingmemory', 'treat', 'sometimes', 'find', 'discoveryedit', 'historically', 'player', 'signal72', 'gameedit', 'interpreted', 'layer91', 'preventing', 'every', 'sparsity', 'british', 'mcts', 'convolutions136', 'response', '4', 'visual', 'relies', 'faster', 'past', 'norm', 'struggle', 'described', 'bird', '19693536', 'sharingedit', 'checkerboard', 'represent', 'showing', 'fuse', 'resolve', 'like', 'boltzmann', 'subsequent', 'integer', 'reduce', '2000s', 'stimulus', 'smaller', 'lenet5edit', 'conduct', 'dilation', 'phenomenon', 'noted', 'relative', 'many', 'full', 'nlp', 's1', 'poorlypopulated', 'allowing', 'increasingly', 'coordinate', 'notably', 'followed', 'intensive', 'research', 'hwdb10', 'quantile', 'transformation', 'instance', 'practice', '1968', 'step', 'indomain', 'would', 'unlike', 'convolve', 'denoting', 'scratch', 'measure', 'invariance41', 'idsia', 'neocognitron', 'electromyography', 'outperformed', 'cmp', 'sequence', 'wa', 'height', '11', '5x5', 'learns', 'domain', 'alexnet99'}\n",
            "\n",
            " Words: less than 4\n",
            "34\n",
            "55\n",
            "oh\n",
            "mlp\n",
            "dan\n",
            "5\n",
            "83\n",
            "way\n",
            "67\n",
            "eye\n",
            "al\n",
            "n\n",
            "75\n",
            "976\n",
            "dot\n",
            "roi\n",
            "2d\n",
            "20\n",
            "map\n",
            "phi\n",
            "3\n",
            "j\n",
            "cat\n",
            "try\n",
            "25\n",
            "x\n",
            "e\n",
            "fit\n",
            "w2c\n",
            "10\n",
            "cnn\n",
            "ass\n",
            "3x3\n",
            "sum\n",
            "3d\n",
            "b\n",
            "see\n",
            "add\n",
            "zip\n",
            "use\n",
            "22\n",
            "mp\n",
            "vec\n",
            "max\n",
            "doe\n",
            "low\n",
            "end\n",
            "et\n",
            "ten\n",
            "dog\n",
            "net\n",
            "l2\n",
            "go\n",
            "rgb\n",
            "9\n",
            "win\n",
            "2x2\n",
            "100\n",
            "1\n",
            "le\n",
            "dqn\n",
            "k\n",
            "one\n",
            "128\n",
            "act\n",
            "new\n",
            "1d\n",
            "per\n",
            "pad\n",
            "ant\n",
            "set\n",
            "may\n",
            "lot\n",
            "023\n",
            "0\n",
            "32\n",
            "60\n",
            "etc\n",
            "two\n",
            "2\n",
            "01\n",
            "wei\n",
            "old\n",
            "30\n",
            "gpu\n",
            "2n\n",
            "gnu\n",
            "97\n",
            "far\n",
            "05\n",
            "sp3\n",
            "1p\n",
            "eg\n",
            "l1\n",
            "f\n",
            "us\n",
            "ha\n",
            "w\n",
            "p\n",
            "15\n",
            "c\n",
            "due\n",
            "165\n",
            "pas\n",
            "121\n",
            "fc\n",
            "6\n",
            "via\n",
            "va\n",
            "4\n",
            "nlp\n",
            "s1\n",
            "cmp\n",
            "wa\n",
            "11\n",
            "5x5\n"
          ]
        }
      ],
      "source": [
        "import requests\n",
        "from bs4 import BeautifulSoup\n",
        "import nltk\n",
        "import re\n",
        "\n",
        "#  Download HTML from a URL\n",
        "url = \"https://en.wikipedia.org/wiki/Convolutional_neural_network\"\n",
        "html_content = response.content\n",
        "\n",
        "#  Extract text from HTML\n",
        "soup = BeautifulSoup(html_content, \"html.parser\")\n",
        "text = soup.get_text()\n",
        "\n",
        "#  Extract text from paragraphs\n",
        "paragraphs = soup.find_all([\"p\", \"h1\", \"h2\", \"h3\", \"h4\", \"h5\", \"h6\"])\n",
        "text = \" \".join([p.get_text() for p in paragraphs])\n",
        "\n",
        "# Data Processing\n",
        "\n",
        "#  Cleaning\n",
        "text = re.sub(r\"[^a-zA-Z0-9\\s]\", \"\", text)  # Remove non-alphanumeric characters\n",
        "\n",
        "#  Normalization\n",
        "text = text.lower()\n",
        "\n",
        "#  Tokenization\n",
        "tokens = nltk.word_tokenize(text)\n",
        "\n",
        "\n",
        "#  Lemmatization (Stemming) word\n",
        "lemmatizer = nltk.stem.WordNetLemmatizer()\n",
        "stemmed = []\n",
        "for token in tokens:\n",
        "    stemmed.append(lemmatizer.lemmatize(token))\n",
        "\n",
        "#  Stop word removal\n",
        "stop_words = set(nltk.corpus.stopwords.words(\"english\"))\n",
        "filtered_tokens = [token for token in stemmed if token not in stop_words]\n",
        "\n",
        "# Get unique words\n",
        "unique_words = set(filtered_tokens)\n",
        "\n",
        "#  Print unique words\n",
        "formatted_output = \", \".join(unique_words)\n",
        "print(\"Unique Words:\\n\", unique_words)\n",
        "print(\"\\n\"+\" Words: less than 4\")\n",
        "for word in unique_words:\n",
        "    if len(word) < 4:\n",
        "        print(word)"
      ]
    }
  ],
  "metadata": {
    "colab": {
      "provenance": []
    },
    "kernelspec": {
      "display_name": "Python 3",
      "name": "python3"
    },
    "language_info": {
      "name": "python"
    }
  },
  "nbformat": 4,
  "nbformat_minor": 0
}